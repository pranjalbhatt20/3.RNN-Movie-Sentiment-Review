{
 "cells": [
  {
   "cell_type": "code",
   "execution_count": 2,
   "metadata": {},
   "outputs": [],
   "source": [
    "import pandas as pd\n",
    "import tensorflow\n",
    "from tensorflow.keras.datasets import imdb\n",
    "from tensorflow.keras.preprocessing import sequence\n",
    "from tensorflow.keras.models import load_model"
   ]
  },
  {
   "cell_type": "code",
   "execution_count": 3,
   "metadata": {},
   "outputs": [],
   "source": [
    "word_index=imdb.get_word_index()\n",
    "word_index_reverse={v:k for k,v in word_index.items()}"
   ]
  },
  {
   "cell_type": "code",
   "execution_count": 4,
   "metadata": {},
   "outputs": [],
   "source": [
    "model=load_model('./saved model/rnn_imdb.h5')"
   ]
  },
  {
   "cell_type": "code",
   "execution_count": 5,
   "metadata": {},
   "outputs": [],
   "source": [
    "# Function to decode reviews \n",
    "def decode_review(encoded_review):\n",
    "    return ' '.join([word_index_reverse.get(i-3,'?') for i in encoded_review])\n",
    "\n",
    "# function to preprocess user input \n",
    "def preprocess_text(text):\n",
    "    words=text.lower().split()\n",
    "    encoded_review=[word_index.get(word,2)+3 for word in words]\n",
    "    padded_review=sequence.pad_sequences([encoded_review],maxlen=500)\n",
    "    return padded_review"
   ]
  },
  {
   "cell_type": "code",
   "execution_count": 6,
   "metadata": {},
   "outputs": [],
   "source": [
    "# prediction function \n",
    "def predict_sentiment(review):\n",
    "    preprocess_review=preprocess_text(review)\n",
    "    prediction=model.predict(preprocess_review)\n",
    "    sentiment='Positive' if prediction[0][0]>0.5 else 'Negative'\n",
    "    return sentiment,prediction[0][0]"
   ]
  },
  {
   "cell_type": "code",
   "execution_count": 7,
   "metadata": {},
   "outputs": [
    {
     "name": "stdout",
     "output_type": "stream",
     "text": [
      "1/1 [==============================] - 0s 201ms/step\n",
      "Review This movie was good! the acting was great and the plot was thrilling\n",
      "Sentiment Positive\n",
      "Score 0.5076398849487305\n"
     ]
    }
   ],
   "source": [
    "# Example review\n",
    "sample_review=\"This movie was good! the acting was great and the plot was thrilling\"\n",
    "sentiment,score=predict_sentiment(sample_review)\n",
    "print(f\"Review {sample_review}\")\n",
    "print(f\"Sentiment {sentiment}\")\n",
    "print(f\"Score {score}\")"
   ]
  },
  {
   "cell_type": "code",
   "execution_count": null,
   "metadata": {},
   "outputs": [],
   "source": []
  }
 ],
 "metadata": {
  "kernelspec": {
   "display_name": "Python 3 (ipykernel)",
   "language": "python",
   "name": "python3"
  },
  "language_info": {
   "codemirror_mode": {
    "name": "ipython",
    "version": 3
   },
   "file_extension": ".py",
   "mimetype": "text/x-python",
   "name": "python",
   "nbconvert_exporter": "python",
   "pygments_lexer": "ipython3",
   "version": "3.10.4"
  }
 },
 "nbformat": 4,
 "nbformat_minor": 2
}
